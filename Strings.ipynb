{
  "cells": [
    {
      "cell_type": "code",
      "execution_count": null,
      "id": "11104ed6",
      "metadata": {
        "id": "11104ed6"
      },
      "outputs": [],
      "source": [
        "#Strings are Interesting and are immutable i.e. S[0] = 'W' will give error.\n",
        "#Using indexes\n",
        "S = \"Ana is beautiful\"\n",
        "print(S[2])"
      ]
    },
    {
      "cell_type": "code",
      "execution_count": null,
      "id": "60666332",
      "metadata": {
        "id": "60666332"
      },
      "outputs": [],
      "source": [
        "#Slicing the indexes\n",
        "print(S[0:2])"
      ]
    },
    {
      "cell_type": "code",
      "execution_count": null,
      "id": "2ef096f4",
      "metadata": {
        "id": "2ef096f4",
        "outputId": "8797d8eb-2cab-45ac-eb39-4729ffdd3065"
      },
      "outputs": [
        {
          "name": "stdout",
          "output_type": "stream",
          "text": [
            "Ana is beautiful\n",
            "Aai euiu\n"
          ]
        }
      ],
      "source": [
        "#Using another method to call indexes by avoiding the loop\n",
        "print(S[::])\n",
        "print(S[::2]) #2 written after two colons suggests jump by staring from index 0"
      ]
    },
    {
      "cell_type": "code",
      "execution_count": null,
      "id": "afcd7393",
      "metadata": {
        "id": "afcd7393",
        "outputId": "677747ba-e3a5-490f-f3b2-5065ae0b3663"
      },
      "outputs": [
        {
          "name": "stdout",
          "output_type": "stream",
          "text": [
            "Ana is beautiful and she is 26 years old\n"
          ]
        }
      ],
      "source": [
        "#String formatting\n",
        "#Method 1: Concatenation (merely adding two strings using + operator)\n",
        "print(S + \" and she is 26 years old\")"
      ]
    },
    {
      "cell_type": "code",
      "execution_count": null,
      "id": "74d86c82",
      "metadata": {
        "id": "74d86c82",
        "outputId": "c306d70f-7277-4c83-974f-71a3d54c5f1f"
      },
      "outputs": [
        {
          "name": "stdout",
          "output_type": "stream",
          "text": [
            "Anna is beutiful and she is 26 years old\n"
          ]
        }
      ],
      "source": [
        "#String Formatting\n",
        "#Method 2: Using format function\n",
        "print('Anna is beutiful and she is {} years old'.format(26))"
      ]
    },
    {
      "cell_type": "code",
      "execution_count": null,
      "id": "49b58ac5",
      "metadata": {
        "id": "49b58ac5",
        "outputId": "4c0a5e1b-7265-4b81-f140-a8e4999ca605"
      },
      "outputs": [
        {
          "name": "stdout",
          "output_type": "stream",
          "text": [
            "Anna is beautiful and she is 26 years old\n"
          ]
        }
      ],
      "source": [
        "#String formatting\n",
        "#Method 2 part 2: Format function with indexing\n",
        "print('Anna is {1} and she is {0} years old'.format(26, 'beautiful'))"
      ]
    },
    {
      "cell_type": "code",
      "execution_count": null,
      "id": "46dbda35",
      "metadata": {
        "id": "46dbda35",
        "outputId": "58c78012-d4f1-4dcb-dc50-0c7af8f5956f"
      },
      "outputs": [
        {
          "name": "stdout",
          "output_type": "stream",
          "text": [
            "Ana is beautiful and she is 26 years old\n"
          ]
        }
      ],
      "source": [
        "#String Formatting\n",
        "#Method 3: Using f-string\n",
        "print(f'{S} and she is 26 years old')"
      ]
    },
    {
      "cell_type": "code",
      "execution_count": null,
      "id": "1524441d",
      "metadata": {
        "id": "1524441d",
        "outputId": "4eaaa57f-269c-4fd1-8c18-7dfc412072df"
      },
      "outputs": [
        {
          "name": "stdout",
          "output_type": "stream",
          "text": [
            "Anna is beautiful and she is 26 years old\n"
          ]
        }
      ],
      "source": [
        "#String Formatting \n",
        "#Method 4: using %s and %\n",
        "print(\"Anna is %s and she is %s years old\" %('beautiful','26'))"
      ]
    },
    {
      "cell_type": "code",
      "execution_count": null,
      "id": "d9106bb4",
      "metadata": {
        "id": "d9106bb4",
        "outputId": "9d647d6c-6331-4a82-8029-4ec7eee4440f"
      },
      "outputs": [
        {
          "name": "stdout",
          "output_type": "stream",
          "text": [
            "10 divide by 3 equals   3.3\n"
          ]
        }
      ],
      "source": [
        "#String Formatting #Float variable:width.precision f\n",
        "T = 3.333333\n",
        "print(\"10 divide by 3 equals {t:5.1f}\".format(t=T))"
      ]
    },
    {
      "cell_type": "code",
      "source": [
        "X=2.234444\n",
        "print(\"Hello {newvar:5.2f}\".format(newvar=2.4343343))"
      ],
      "metadata": {
        "colab": {
          "base_uri": "https://localhost:8080/"
        },
        "id": "beSHquBNoLd2",
        "outputId": "0b4c1a21-d204-4794-94ac-2c13cd75f787"
      },
      "id": "beSHquBNoLd2",
      "execution_count": null,
      "outputs": [
        {
          "output_type": "stream",
          "name": "stdout",
          "text": [
            "Hello  2.43\n"
          ]
        }
      ]
    },
    {
      "cell_type": "code",
      "execution_count": null,
      "id": "41f14c21",
      "metadata": {
        "id": "41f14c21",
        "outputId": "48dfd4b5-6760-4a6b-c7e2-90c9f252ac27"
      },
      "outputs": [
        {
          "name": "stdout",
          "output_type": "stream",
          "text": [
            "Anna is beautiful and she is '26 years old.'\n"
          ]
        }
      ],
      "source": [
        "#String formatting #using %r (representation) to print everything\n",
        "print(\"Anna is beautiful and she is %r\" %'26 years old.')"
      ]
    },
    {
      "cell_type": "code",
      "execution_count": null,
      "id": "89b50194",
      "metadata": {
        "id": "89b50194",
        "outputId": "315d8b08-facc-4e5b-c276-db1fec695c6a"
      },
      "outputs": [
        {
          "name": "stdout",
          "output_type": "stream",
          "text": [
            "Ana is beautiful and she is 26 years old\n",
            "'Ana is beautiful' and she is 26 years old\n"
          ]
        }
      ],
      "source": [
        "#String representation using f-string, using !r\n",
        "print(f\"{S} and she is 26 years old\")\n",
        "print(f\"{S!r} and she is 26 years old\")\n"
      ]
    },
    {
      "cell_type": "code",
      "execution_count": null,
      "id": "e3a09d86",
      "metadata": {
        "id": "e3a09d86",
        "outputId": "eb51b8cb-76ee-43ac-ba4a-389805523ee9"
      },
      "outputs": [
        {
          "name": "stdout",
          "output_type": "stream",
          "text": [
            "10 divided by 3 equals  3.33\n"
          ]
        }
      ],
      "source": [
        "#width:precision f variation\n",
        "print(\"10 divided by 3 equals %5.2f\" %(T))"
      ]
    },
    {
      "cell_type": "code",
      "execution_count": null,
      "id": "bfd971b0",
      "metadata": {
        "id": "bfd971b0",
        "outputId": "99ee766d-b35f-44fd-9aca-1cde0484fb92"
      },
      "outputs": [
        {
          "name": "stdout",
          "output_type": "stream",
          "text": [
            "Fruits     = Sour/Sweet Hehes/Nehes\n",
            "Apples     = Sweet      Hehes\n",
            "Grapes     = Sour       Nehes\n"
          ]
        }
      ],
      "source": [
        "#Padding can be added {1:10} 1 is imdex, 10 is padding\n",
        "print('{0:10} = {1:10} Hehes/Nehes'.format(\"Fruits\", \"Sour/Sweet\"))\n",
        "print('{0:10} = {1:10} Hehes'.format(\"Apples\", \"Sweet\"))\n",
        "print('{0:10} = {1:10} Nehes'.format(\"Grapes\", \"Sour\"))\n"
      ]
    },
    {
      "cell_type": "code",
      "execution_count": null,
      "id": "4a8fc696",
      "metadata": {
        "id": "4a8fc696",
        "outputId": "d78d45fd-99e6-4021-9a14-e7ae87095718"
      },
      "outputs": [
        {
          "name": "stdout",
          "output_type": "stream",
          "text": [
            "Anna       =    Anna    =       Anna\n"
          ]
        }
      ],
      "source": [
        "#Padding #Alignment\n",
        "print(\"{0:<10} = {0:^10} = {0:>10}\".format(\"Anna\") )\n",
        "#0:<1, < refers to left alignment, > is right and ^ is center alignment"
      ]
    },
    {
      "cell_type": "code",
      "execution_count": null,
      "id": "922b35cd",
      "metadata": {
        "scrolled": true,
        "id": "922b35cd",
        "outputId": "c6b833ca-3414-4408-ef29-54bf4ad74d97"
      },
      "outputs": [
        {
          "name": "stdout",
          "output_type": "stream",
          "text": [
            "========Anna========\n"
          ]
        }
      ],
      "source": [
        "#Padding #Padding Character \n",
        "print(\"{0:=^20}\".format(\"Anna\"))"
      ]
    },
    {
      "cell_type": "code",
      "execution_count": null,
      "id": "673e86a9",
      "metadata": {
        "id": "673e86a9",
        "outputId": "46346af9-f4a5-4818-a479-ac8ad9b5ea0a"
      },
      "outputs": [
        {
          "name": "stdout",
          "output_type": "stream",
          "text": [
            "H\n",
            "e\n"
          ]
        }
      ],
      "source": [
        "#iteration in strings\n",
        "s = \"Hello\"\n",
        "t = s.__iter__() #Creation of a string iterator t function:_ _ i t e r _ _\n",
        "print(t.__next__()) # next returns the next element after iteration\n",
        "print(t.__next__())\n",
        "#Lists, tuples and string objects are sequence objects and are iterables"
      ]
    }
  ],
  "metadata": {
    "kernelspec": {
      "display_name": "Python 3 (ipykernel)",
      "language": "python",
      "name": "python3"
    },
    "language_info": {
      "codemirror_mode": {
        "name": "ipython",
        "version": 3
      },
      "file_extension": ".py",
      "mimetype": "text/x-python",
      "name": "python",
      "nbconvert_exporter": "python",
      "pygments_lexer": "ipython3",
      "version": "3.9.12"
    },
    "colab": {
      "provenance": []
    }
  },
  "nbformat": 4,
  "nbformat_minor": 5
}